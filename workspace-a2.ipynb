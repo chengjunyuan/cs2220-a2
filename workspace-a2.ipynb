{
 "cells": [
  {
   "cell_type": "code",
   "execution_count": 1,
   "id": "c275bc97",
   "metadata": {},
   "outputs": [],
   "source": [
    "import os\n",
    "import pandas as pd\n",
    "import numpy as np\n",
    "from Bio import SeqIO"
   ]
  },
  {
   "cell_type": "markdown",
   "id": "61080475",
   "metadata": {},
   "source": [
    "# Part 1: Analysis"
   ]
  },
  {
   "cell_type": "code",
   "execution_count": 2,
   "id": "e7d56efb",
   "metadata": {},
   "outputs": [],
   "source": [
    "# Inputting data\n",
    "alpha_seqs = []\n",
    "for record in SeqIO.parse(\"assignment1-alpha_seq-1.fasta\", \"fasta\"):\n",
    "    alpha_seqs.append(str(record.seq))\n",
    "    \n",
    "beta_seqs = []\n",
    "for record in SeqIO.parse(\"assignment1-beta_seq-1.fasta\", \"fasta\"):\n",
    "    beta_seqs.append(str(record.seq))\n",
    "    \n",
    "# Generates lists for residues (20 elements) and residue pairs (400 elements).\n",
    "residuepairs = []\n",
    "residues = [\"A\", \"C\", \"D\", \"E\", \"F\",\n",
    "        \"G\", \"H\", \"I\", \"K\", \"L\",\n",
    "        \"M\", \"N\", \"P\", \"Q\", \"R\",\n",
    "        \"S\", \"T\", \"V\", \"W\", \"Y\"]\n",
    "\n",
    "for i in residues:\n",
    "    for j in residues:\n",
    "        residuepairs.append(i + j)\n",
    "        \n",
    "# Removes \"U\" from sequences\n",
    "def cleaner(seq):\n",
    "    ans = \"\"\n",
    "    for i in seq:\n",
    "        if i != \"U\":\n",
    "            ans += i\n",
    "    return ans\n",
    "\n",
    "alpha_seqs = [cleaner(seq) for seq in alpha_seqs]\n",
    "beta_seqs = [cleaner(seq) for seq in beta_seqs]"
   ]
  },
  {
   "cell_type": "code",
   "execution_count": 3,
   "id": "9aca792f",
   "metadata": {},
   "outputs": [],
   "source": [
    "# Takes in a sequence and calculates the amino acid composition\n",
    "def aacomp(seq):\n",
    "    aa = {\n",
    "        \"A\": 0, \"C\": 0, \"D\": 0, \"E\": 0, \"F\": 0,\n",
    "        \"G\": 0, \"H\": 0, \"I\": 0, \"K\": 0, \"L\": 0,\n",
    "        \"M\": 0, \"N\": 0, \"P\": 0, \"Q\": 0, \"R\": 0,\n",
    "        \"S\": 0, \"T\": 0, \"V\": 0, \"W\": 0, \"Y\": 0,\n",
    "        \"U\": 0\n",
    "    }\n",
    "    sum = len(seq) - aa[\"U\"]\n",
    "    for i in seq:\n",
    "        aa[i] += 1\n",
    "    temp = [aa[j] / sum for j in aa]\n",
    "    return temp[:-1]\n",
    "\n",
    "alpha_comps = [aacomp(i) for i in alpha_seqs]\n",
    "beta_comps = [aacomp(i) for i in beta_seqs]\n",
    "\n",
    "alpha_comps_df = pd.DataFrame(alpha_comps, columns = residues)\n",
    "beta_comps_df = pd.DataFrame(beta_comps, columns = residues)\n",
    "\n",
    "alpha_means = alpha_comps_df.mean()\n",
    "alpha_var = alpha_comps_df.var()\n",
    "\n",
    "beta_means = beta_comps_df.mean()\n",
    "beta_var = beta_comps_df.var()\n",
    "\n",
    "fdr = ((alpha_means - beta_means) ** 2) / (alpha_var + beta_var)\n",
    "\n",
    "# Q2, Q3\n",
    "# print(\"Alpha means are:\")\n",
    "# print(alpha_means)\n",
    "# print(\"Beta means are:\")\n",
    "# print(beta_means)\n",
    "# print(\"Fisher Discriminant Ratios are:\")\n",
    "# print(fdr)\n",
    "# print(beta_var)"
   ]
  },
  {
   "cell_type": "code",
   "execution_count": 4,
   "id": "1e57a7d4",
   "metadata": {},
   "outputs": [],
   "source": [
    "def residue_pair_prefs(seq):\n",
    "    num = len(seq) - 1\n",
    "    freq = {}\n",
    "    for index, element in enumerate(residuepairs):\n",
    "        freq[element] = 0\n",
    "    for i in range(num):\n",
    "        freq[seq[i:i+2]] += 1\n",
    "    ans = [freq[i] / num for i in freq]\n",
    "    return ans\n",
    "\n",
    "alpha_residue_pairs = [residue_pair_prefs(i) for i in alpha_seqs]\n",
    "beta_residue_pairs = [residue_pair_prefs(i) for i in beta_seqs]\n",
    "\n",
    "alpha_residues_df = pd.DataFrame(\n",
    "    alpha_residue_pairs,\n",
    "    columns=residuepairs)\n",
    "\n",
    "beta_residues_df = pd.DataFrame(\n",
    "    beta_residue_pairs,\n",
    "    columns=residuepairs)\n",
    "\n",
    "alpha_residue_means = alpha_residues_df.mean()\n",
    "alpha_residue_var = alpha_residues_df.var()\n",
    "\n",
    "beta_residue_means = beta_residues_df.mean()\n",
    "beta_residue_var = beta_residues_df.var()\n",
    "\n",
    "residue_fdr = ((alpha_residue_means - beta_residue_means) ** 2) / (alpha_residue_var + beta_residue_var)\n",
    "\n",
    "top_alpha_pairs = alpha_residue_means.nlargest(5)\n",
    "top_beta_pairs = beta_residue_means.nlargest(5)\n",
    "top_residue_pairs = residue_fdr.nlargest(5)\n",
    "\n",
    "# Q4\n",
    "# print(\"Top Alpha pairs are:\")\n",
    "# print(top_alpha_pairs)\n",
    "# print(\"Top Beta pairs are:\")\n",
    "# print(top_beta_pairs)\n",
    "# print(\"Top Fisher Discriminant Ratios are:\")\n",
    "# print(top_residue_pairs)"
   ]
  },
  {
   "cell_type": "markdown",
   "id": "86a55867",
   "metadata": {},
   "source": [
    "# Part 2: Discrimination"
   ]
  },
  {
   "cell_type": "code",
   "execution_count": 5,
   "id": "815b30dd",
   "metadata": {},
   "outputs": [],
   "source": [
    "# We will use alpha_comps, beta_comps, alpha_means, beta_means from above\n",
    "def predictor(seq_comp):\n",
    "    # Will predict as Alpha\n",
    "    sigma_tmh = 0\n",
    "    sigma_tmb = 0\n",
    "    for i in range(20):\n",
    "        sigma_tmh += abs(seq_comp[i] - alpha_means[i])\n",
    "        sigma_tmb += abs(seq_comp[i] - beta_means[i])\n",
    "    if sigma_tmh < sigma_tmb:\n",
    "        return 1\n",
    "    else:\n",
    "        return 0\n",
    "    \n",
    "true_positives = 0\n",
    "for i in alpha_comps:\n",
    "    true_positives += predictor(i)\n",
    "false_negatives = len(alpha_comps) - true_positives\n",
    "\n",
    "false_positives = 0\n",
    "for i in beta_comps:\n",
    "    false_positives += predictor(i)\n",
    "true_negatives = len(beta_comps) - false_positives\n",
    "\n",
    "# Q5, Q6, Q7\n",
    "# print(true_positives, false_positives, true_negatives, false_negatives)"
   ]
  },
  {
   "cell_type": "code",
   "execution_count": 6,
   "id": "b86e3bee",
   "metadata": {},
   "outputs": [
    {
     "name": "stdout",
     "output_type": "stream",
     "text": [
      "298 8 64 52\n"
     ]
    }
   ],
   "source": [
    "alpha_comps_half = alpha_comps[:len(alpha_comps) // 2]\n",
    "beta_comps_half = beta_comps[:len(beta_comps) // 2]\n",
    "\n",
    "alpha_comps_half_df = pd.DataFrame(alpha_comps_half, columns = residues)\n",
    "beta_comps_half_df = pd.DataFrame(beta_comps_half, columns = residues)\n",
    "\n",
    "alpha_half_mean = alpha_comps_half_df.mean()\n",
    "beta_half_mean = beta_comps_half_df.mean()\n",
    "\n",
    "def predictor_half(seq_comp):\n",
    "    # Will predict as Alpha\n",
    "    sigma_tmh = 0\n",
    "    sigma_tmb = 0\n",
    "    for i in range(20):\n",
    "        sigma_tmh += abs(seq_comp[i] - alpha_half_mean[i])\n",
    "        sigma_tmb += abs(seq_comp[i] - beta_half_mean[i])\n",
    "    if sigma_tmh < sigma_tmb:\n",
    "        return 1\n",
    "    else:\n",
    "        return 0\n",
    "    \n",
    "true_positives_half = 0\n",
    "for i in alpha_comps_half:\n",
    "    true_positives_half += predictor(i)\n",
    "false_negatives_half = len(alpha_comps_half) - true_positives_half\n",
    "\n",
    "false_positives_half = 0\n",
    "for i in beta_comps_half:\n",
    "    false_positives_half += predictor(i)\n",
    "true_negatives_half = len(beta_comps_half) - false_positives_half\n",
    "\n",
    "# Q9\n",
    "# print(true_positives_half, false_positives_half, true_negatives_half, false_negatives_half)"
   ]
  },
  {
   "cell_type": "markdown",
   "id": "ccd5dcbf",
   "metadata": {},
   "source": [
    "# Part 3: Comparison of different features"
   ]
  },
  {
   "cell_type": "code",
   "execution_count": 7,
   "id": "67b785f6",
   "metadata": {},
   "outputs": [
    {
     "name": "stdout",
     "output_type": "stream",
     "text": [
      "630 9 135 70\n"
     ]
    }
   ],
   "source": [
    "# We will use alpha_residue_pairs, beta_residue_pairs, alpha_residue_means, beta_residue_means from above\n",
    "def predictor_respairs(seq_comp):\n",
    "    # Will predict as Alpha\n",
    "    sigma_tmh = 0\n",
    "    sigma_tmb = 0\n",
    "    for i in range(400):\n",
    "        sigma_tmh += abs(seq_comp[i] - alpha_residue_means[i])\n",
    "        sigma_tmb += abs(seq_comp[i] - beta_residue_means[i])\n",
    "    if sigma_tmh < sigma_tmb:\n",
    "        return 1\n",
    "    else:\n",
    "        return 0\n",
    "    \n",
    "true_positives_respairs = 0\n",
    "for i in alpha_residue_pairs:\n",
    "    true_positives_respairs += predictor_respairs(i)\n",
    "false_negatives_respairs = len(alpha_comps) - true_positives_respairs\n",
    "\n",
    "false_positives_respairs = 0\n",
    "for i in beta_residue_pairs:\n",
    "    false_positives_respairs += predictor_respairs(i)\n",
    "true_negatives_respairs = len(beta_comps) - false_positives_respairs\n",
    "\n",
    "# Q(a)\n",
    "# print(true_positives_respairs, false_positives_respairs, true_negatives_respairs, false_negatives_respairs)"
   ]
  },
  {
   "cell_type": "code",
   "execution_count": 8,
   "id": "2c9c3c9b",
   "metadata": {},
   "outputs": [
    {
     "name": "stdout",
     "output_type": "stream",
     "text": [
      "317 6 66 33\n"
     ]
    }
   ],
   "source": [
    "alpha_respairs_half = alpha_residue_pairs[:len(alpha_comps) // 2]\n",
    "beta_respairs_half = beta_residue_pairs[:len(beta_comps) // 2]\n",
    "\n",
    "alpha_respairs_half_df = pd.DataFrame(alpha_respairs_half, columns = residuepairs)\n",
    "beta_respairs_half_df = pd.DataFrame(beta_respairs_half, columns = residuepairs)\n",
    "\n",
    "alpha_respairs_half_mean = alpha_respairs_half_df.mean()\n",
    "beta_respairs_half_mean = beta_respairs_half_df.mean()\n",
    "\n",
    "def predictor_respairs_half(seq_comp):\n",
    "    # Will predict as Alpha\n",
    "    sigma_tmh = 0\n",
    "    sigma_tmb = 0\n",
    "    for i in range(400):\n",
    "        sigma_tmh += abs(seq_comp[i] - alpha_respairs_half_mean[i])\n",
    "        sigma_tmb += abs(seq_comp[i] - beta_respairs_half_mean[i])\n",
    "    if sigma_tmh < sigma_tmb:\n",
    "        return 1\n",
    "    else:\n",
    "        return 0\n",
    "    \n",
    "true_positives_respairs_half = 0\n",
    "for i in alpha_respairs_half:\n",
    "    true_positives_respairs_half += predictor_respairs_half(i)\n",
    "false_negatives_respairs_half = len(alpha_comps_half) - true_positives_respairs_half\n",
    "\n",
    "false_positives_respairs_half = 0\n",
    "for i in beta_respairs_half:\n",
    "    false_positives_respairs_half += predictor_respairs_half(i)\n",
    "true_negatives_respairs_half = len(beta_comps_half) - false_positives_respairs_half\n",
    "\n",
    "# Q(a)\n",
    "# print(true_positives_respairs_half, false_positives_respairs_half, true_negatives_respairs_half, false_negatives_respairs_half)"
   ]
  },
  {
   "cell_type": "code",
   "execution_count": 11,
   "id": "6ccdc7a5",
   "metadata": {},
   "outputs": [
    {
     "name": "stdout",
     "output_type": "stream",
     "text": [
      "617 11 133 83\n"
     ]
    }
   ],
   "source": [
    "# Classifier with all amino acid and residue pair features (total 420 features).\n",
    "def all_predictor(seq_comp, seq_pairs):\n",
    "    sigma_tmh = 0\n",
    "    sigma_tmb = 0\n",
    "    for i in range(20):\n",
    "        sigma_tmh += abs(seq_comp[i] - alpha_means[i])\n",
    "        sigma_tmb += abs(seq_comp[i] - beta_means[i])\n",
    "    for i in range(400):\n",
    "        sigma_tmh += abs(seq_pairs[i] - alpha_residue_means[i])\n",
    "        sigma_tmb += abs(seq_pairs[i] - beta_residue_means[i])\n",
    "    if sigma_tmh < sigma_tmb:\n",
    "        return 1\n",
    "    else:\n",
    "        return 0\n",
    "    \n",
    "all_true_positives = 0\n",
    "for i in range(700):\n",
    "    all_true_positives += all_predictor(alpha_comps[i], alpha_residue_pairs[i])\n",
    "all_false_negatives = len(alpha_comps) - all_true_positives\n",
    "\n",
    "all_false_positives = 0\n",
    "for i in range(144):\n",
    "    all_false_positives += all_predictor(beta_comps[i], beta_residue_pairs[i])\n",
    "all_true_negatives = len(beta_comps) - all_false_positives\n",
    "\n",
    "# Q(b)\n",
    "# print(all_true_positives, all_false_positives, all_true_negatives, all_false_negatives)"
   ]
  },
  {
   "cell_type": "code",
   "execution_count": 21,
   "id": "d7568819",
   "metadata": {},
   "outputs": [
    {
     "name": "stdout",
     "output_type": "stream",
     "text": [
      "601 15 129 99\n"
     ]
    }
   ],
   "source": [
    "# Classifier with only selected features (total 7 features).\n",
    "def select_predictor(seq_comp, seq_pairs):\n",
    "    sigma_tmh = 0\n",
    "    sigma_tmb = 0\n",
    "    for i in [2, 11]: # index for 2 most important amino acid\n",
    "        sigma_tmh += abs(seq_comp[i] - alpha_means[i])\n",
    "        sigma_tmb += abs(seq_comp[i] - beta_means[i])\n",
    "    for i in [189, 187, 149, 51, 349]: # indexes for top 5 most important pairs\n",
    "        sigma_tmh += abs(seq_pairs[i] - alpha_residue_means[i])\n",
    "        sigma_tmb += abs(seq_pairs[i] - beta_residue_means[i])\n",
    "    if sigma_tmh < sigma_tmb:\n",
    "        return 1\n",
    "    else:\n",
    "        return 0\n",
    "    \n",
    "select_true_positives = 0\n",
    "for i in range(700):\n",
    "    select_true_positives += select_predictor(alpha_comps[i], alpha_residue_pairs[i])\n",
    "select_false_negatives = len(alpha_comps) - select_true_positives\n",
    "\n",
    "select_false_positives = 0\n",
    "for i in range(144):\n",
    "    select_false_positives += select_predictor(beta_comps[i], beta_residue_pairs[i])\n",
    "select_true_negatives = len(beta_comps) - select_false_positives\n",
    "\n",
    "# Q(c)\n",
    "# print(select_true_positives, select_false_positives, select_true_negatives, select_false_negatives)"
   ]
  },
  {
   "cell_type": "code",
   "execution_count": null,
   "id": "136659f9",
   "metadata": {},
   "outputs": [],
   "source": []
  }
 ],
 "metadata": {
  "kernelspec": {
   "display_name": "Python 3 (ipykernel)",
   "language": "python",
   "name": "python3"
  },
  "language_info": {
   "codemirror_mode": {
    "name": "ipython",
    "version": 3
   },
   "file_extension": ".py",
   "mimetype": "text/x-python",
   "name": "python",
   "nbconvert_exporter": "python",
   "pygments_lexer": "ipython3",
   "version": "3.10.8"
  },
  "varInspector": {
   "cols": {
    "lenName": 16,
    "lenType": 16,
    "lenVar": 40
   },
   "kernels_config": {
    "python": {
     "delete_cmd_postfix": "",
     "delete_cmd_prefix": "del ",
     "library": "var_list.py",
     "varRefreshCmd": "print(var_dic_list())"
    },
    "r": {
     "delete_cmd_postfix": ") ",
     "delete_cmd_prefix": "rm(",
     "library": "var_list.r",
     "varRefreshCmd": "cat(var_dic_list()) "
    }
   },
   "types_to_exclude": [
    "module",
    "function",
    "builtin_function_or_method",
    "instance",
    "_Feature"
   ],
   "window_display": false
  }
 },
 "nbformat": 4,
 "nbformat_minor": 5
}
